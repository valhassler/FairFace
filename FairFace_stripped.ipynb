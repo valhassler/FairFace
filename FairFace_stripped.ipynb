{
 "cells": [
  {
   "cell_type": "code",
   "execution_count": 41,
   "metadata": {},
   "outputs": [
    {
     "name": "stdout",
     "output_type": "stream",
     "text": [
      "The autoreload extension is already loaded. To reload it, use:\n",
      "  %reload_ext autoreload\n"
     ]
    }
   ],
   "source": [
    "%load_ext autoreload\n",
    "%autoreload 2\n",
    "import dlib\n",
    "import os\n",
    "import matplotlib.pyplot as plt\n",
    "import numpy as np\n",
    "\n",
    "import torch\n",
    "import torch.nn as nn\n",
    "import torchvision\n",
    "import pandas as pd"
   ]
  },
  {
   "cell_type": "code",
   "execution_count": 36,
   "metadata": {},
   "outputs": [],
   "source": [
    "\n",
    "def reverse_resized_rect(rect,resize_ratio):\n",
    "    l = int(rect.left() / resize_ratio)\n",
    "    t = int(rect.top() / resize_ratio)\n",
    "    r = int(rect.right() / resize_ratio)\n",
    "    b = int(rect.bottom() / resize_ratio)\n",
    "    new_rect = dlib.rectangle(l,t,r,b)\n",
    "    \n",
    "    return [l,t,r,b] , new_rect\n",
    "\n",
    "def resize_image(img, default_max_size=800):\n",
    "    old_height, old_width, _ = img.shape\n",
    "    if old_width > old_height:\n",
    "        resize_ratio = default_max_size / old_width\n",
    "        new_width, new_height = default_max_size, int(old_height * resize_ratio)\n",
    "    else:\n",
    "        resize_ratio = default_max_size / old_height\n",
    "        new_width, new_height =  int(old_width * resize_ratio), default_max_size\n",
    "    img = dlib.resize_image(img, cols=new_width, rows=new_height)\n",
    "    return img, resize_ratio\n",
    "\n",
    "def softmax_numpy(logits):\n",
    "    exps = np.exp(logits - np.max(logits))  # Subtract max for numerical stability\n",
    "    return exps / np.sum(exps)"
   ]
  },
  {
   "cell_type": "code",
   "execution_count": 51,
   "metadata": {},
   "outputs": [
    {
     "name": "stdout",
     "output_type": "stream",
     "text": [
      "(464, 800, 3)\n"
     ]
    }
   ],
   "source": [
    "os.chdir(\"/usr/users/vhassle/psych_track/FairFace\")\n",
    "\n",
    "#image_path = \"test/child_test_1.jpg\"\n",
    "image_path = \"/usr/users/vhassle/datasets/example_images/children/good_quality.png\"\n",
    "\n",
    "rects = []\n",
    "\n",
    "#get image as wanted\n",
    "img = dlib.load_rgb_image(image_path)\n",
    "img, resize_ratio = resize_image(img)\n",
    "print(img.shape)\n",
    "\n",
    "\n",
    "##finds the faces in the image\n",
    "cnn_face_detector = dlib.cnn_face_detection_model_v1('dlib_models/mmod_human_face_detector.dat')\n",
    "sp = dlib.shape_predictor('dlib_models/shape_predictor_5_face_landmarks.dat')\n",
    "dets = cnn_face_detector(img, 1) #takes the longest\n",
    "num_faces = len(dets)\n",
    "faces = dlib.full_object_detections()\n",
    "\n",
    "for detection in dets:\n",
    "    rect = detection.rect\n",
    "    faces.append(sp(img, rect))\n",
    "    rect_tpl ,rect_in_origin = reverse_resized_rect(rect,resize_ratio)\n",
    "    rects.append(rect_in_origin)\n",
    "\n",
    "# seems to extract the faces and size them to 300x300\n",
    "images = dlib.get_face_chips(img, faces, size=300, padding = 0.25) #predefined\n",
    "bboxes = rects"
   ]
  },
  {
   "cell_type": "code",
   "execution_count": 64,
   "metadata": {},
   "outputs": [
    {
     "name": "stderr",
     "output_type": "stream",
     "text": [
      "/usr/users/vhassle/miniforge3/envs/MOTIP/lib/python3.11/site-packages/torchvision/models/_utils.py:223: UserWarning: Arguments other than a weight enum or `None` for 'weights' are deprecated since 0.13 and may be removed in the future. The current behavior is equivalent to passing `weights=ResNet34_Weights.IMAGENET1K_V1`. You can also use `weights=ResNet34_Weights.DEFAULT` to get the most up-to-date weights.\n",
      "  warnings.warn(msg)\n"
     ]
    }
   ],
   "source": [
    "# now the prediction part\n",
    "device = \"cuda:0\"\n",
    "model_path = \"fair_face_models/res34_fair_align_multi_7_20190809.pt\"\n",
    "\n",
    "trans = torchvision.transforms.Compose([\n",
    "    torchvision.transforms.ToPILImage(),\n",
    "    torchvision.transforms.Resize((224, 224)),\n",
    "    torchvision.transforms.ToTensor(),\n",
    "    torchvision.transforms.Normalize(mean=[0.485, 0.456, 0.406], \n",
    "                                     std=[0.229, 0.224, 0.225])\n",
    "])\n",
    "\n",
    "model_fair_7 = torchvision.models.resnet34(weights=True)\n",
    "model_fair_7.fc = nn.Linear(model_fair_7.fc.in_features, 18)\n",
    "model_fair_7.load_state_dict(torch.load(model_path))\n",
    "model_fair_7 = model_fair_7.to(device)\n",
    "model_fair_7.eval()\n",
    "\n",
    "# Now prediction of the images\n",
    "#zoom on one image\n",
    "observations = []\n",
    "for i, image in enumerate(images[0:]):\n",
    "    image = trans(image)\n",
    "    image = image.view(1, 3, 224, 224) \n",
    "    image = image.to(device)\n",
    "    outputs = model_fair_7(image)\n",
    "\n",
    "    outputs = model_fair_7(image)\n",
    "    outputs = outputs.cpu().detach().numpy()\n",
    "    outputs = np.squeeze(outputs)\n",
    "    # plt.imshow(images[i])\n",
    "    # plt.show()\n",
    "\n",
    "    ## Postprocessing \n",
    "    #race_outputs = outputs[:7]\n",
    "    gender_outputs = outputs[7:9]\n",
    "    age_outputs = outputs[9:18]\n",
    "\n",
    "    #race_score = softmax_numpy(race_outputs)\n",
    "    gender_score = softmax_numpy(gender_outputs)\n",
    "    age_score = softmax_numpy(age_outputs)\n",
    "\n",
    "    gender_pred = np.argmax(gender_score)\n",
    "    age_pred = np.argmax(age_score)\n",
    "\n",
    "\n",
    "    observations.append([gender_pred, age_pred,\n",
    "                         gender_score, age_score])\n",
    "observations\n",
    "\n",
    "\n",
    "result = pd.DataFrame(observations)\n",
    "result.columns = ['gender_preds',\n",
    "                    'age_preds',\n",
    "                    'gender_scores',\n",
    "                    'age_scores',\n",
    "                    ]\n",
    "\n",
    "#bboxes"
   ]
  },
  {
   "cell_type": "code",
   "execution_count": 65,
   "metadata": {},
   "outputs": [
    {
     "data": {
      "text/html": [
       "<div>\n",
       "<style scoped>\n",
       "    .dataframe tbody tr th:only-of-type {\n",
       "        vertical-align: middle;\n",
       "    }\n",
       "\n",
       "    .dataframe tbody tr th {\n",
       "        vertical-align: top;\n",
       "    }\n",
       "\n",
       "    .dataframe thead th {\n",
       "        text-align: right;\n",
       "    }\n",
       "</style>\n",
       "<table border=\"1\" class=\"dataframe\">\n",
       "  <thead>\n",
       "    <tr style=\"text-align: right;\">\n",
       "      <th></th>\n",
       "      <th>gender_preds</th>\n",
       "      <th>age_preds</th>\n",
       "      <th>gender_scores</th>\n",
       "      <th>age_scores</th>\n",
       "    </tr>\n",
       "  </thead>\n",
       "  <tbody>\n",
       "    <tr>\n",
       "      <th>0</th>\n",
       "      <td>Female</td>\n",
       "      <td>3-9</td>\n",
       "      <td>[0.014583065, 0.98541695]</td>\n",
       "      <td>[0.00044868793, 0.50427026, 0.43396738, 0.0239...</td>\n",
       "    </tr>\n",
       "    <tr>\n",
       "      <th>1</th>\n",
       "      <td>Male</td>\n",
       "      <td>3-9</td>\n",
       "      <td>[0.7906311, 0.20936885]</td>\n",
       "      <td>[0.0063302903, 0.95460147, 0.03841754, 0.00038...</td>\n",
       "    </tr>\n",
       "    <tr>\n",
       "      <th>2</th>\n",
       "      <td>Female</td>\n",
       "      <td>3-9</td>\n",
       "      <td>[0.4658541, 0.5341459]</td>\n",
       "      <td>[7.394971e-05, 0.7748002, 0.22416294, 0.000872...</td>\n",
       "    </tr>\n",
       "    <tr>\n",
       "      <th>3</th>\n",
       "      <td>Male</td>\n",
       "      <td>3-9</td>\n",
       "      <td>[0.69856405, 0.30143595]</td>\n",
       "      <td>[0.026177593, 0.56725216, 0.3014587, 0.0831028...</td>\n",
       "    </tr>\n",
       "  </tbody>\n",
       "</table>\n",
       "</div>"
      ],
      "text/plain": [
       "  gender_preds age_preds              gender_scores  \\\n",
       "0       Female       3-9  [0.014583065, 0.98541695]   \n",
       "1         Male       3-9    [0.7906311, 0.20936885]   \n",
       "2       Female       3-9     [0.4658541, 0.5341459]   \n",
       "3         Male       3-9   [0.69856405, 0.30143595]   \n",
       "\n",
       "                                          age_scores  \n",
       "0  [0.00044868793, 0.50427026, 0.43396738, 0.0239...  \n",
       "1  [0.0063302903, 0.95460147, 0.03841754, 0.00038...  \n",
       "2  [7.394971e-05, 0.7748002, 0.22416294, 0.000872...  \n",
       "3  [0.026177593, 0.56725216, 0.3014587, 0.0831028...  "
      ]
     },
     "execution_count": 65,
     "metadata": {},
     "output_type": "execute_result"
    }
   ],
   "source": [
    "# Mapping for gender predictions\n",
    "gender_mapping = {0: 'Male', 1: 'Female'}\n",
    "age_mapping = {\n",
    "    0: '0-2', 1: '3-9', 2: '10-19', 3: '20-29',\n",
    "    4: '30-39', 5: '40-49', 6: '50-59', 7: '60-69', 8: '70+'\n",
    "}\n",
    "\n",
    "result['gender_preds'] = result['gender_preds'].map(gender_mapping)\n",
    "result['age_preds'] = result['age_preds'].map(age_mapping)\n",
    "result"
   ]
  }
 ],
 "metadata": {
  "kernelspec": {
   "display_name": "Python 3",
   "language": "python",
   "name": "python3"
  },
  "language_info": {
   "codemirror_mode": {
    "name": "ipython",
    "version": 3
   },
   "file_extension": ".py",
   "mimetype": "text/x-python",
   "name": "python",
   "nbconvert_exporter": "python",
   "pygments_lexer": "ipython3",
   "version": "3.11.6"
  }
 },
 "nbformat": 4,
 "nbformat_minor": 2
}
